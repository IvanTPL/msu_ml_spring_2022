{
 "cells": [
  {
   "cell_type": "code",
   "execution_count": 46,
   "id": "49f14ef7-a8f3-4d57-83ae-485560931129",
   "metadata": {},
   "outputs": [],
   "source": [
    "import pandas as pd\n",
    "import numpy as np\n",
    "import matplotlib.pyplot as plt\n",
    "\n",
    "from sklearn.metrics import f1_score, make_scorer\n",
    "from sklearn.preprocessing import StandardScaler\n",
    "\n",
    "from lightgbm import LGBMClassifier\n",
    "from xgboost import XGBClassifier\n",
    "from catboost import CatBoostClassifier\n",
    "from sklearn.model_selection import GridSearchCV, GroupKFold, cross_val_score\n",
    "\n",
    "from tqdm import tqdm\n",
    "\n",
    "import nltk\n",
    "from nltk.stem.snowball import SnowballStemmer \n",
    "from nltk.corpus import stopwords \n",
    "\n",
    "import re\n",
    "\n",
    "import warnings\n",
    "warnings.filterwarnings('ignore')\n",
    "\n",
    "import os"
   ]
  },
  {
   "cell_type": "markdown",
   "id": "17a89245-6ea7-4cbe-8058-d4bc513f69f3",
   "metadata": {},
   "source": [
    "Функция для обработки заголовков и урлов:"
   ]
  },
  {
   "cell_type": "code",
   "execution_count": 72,
   "id": "12f7ee9c-d474-4ea0-a91e-1ab89b42dc74",
   "metadata": {},
   "outputs": [],
   "source": [
    "def process(s):\n",
    "    ru = re.findall(r'[а-я]\\w+', s.lower())\n",
    "    en = re.findall(r'[a-z]\\w+', s.lower())\n",
    "    words_ru = [SnowballStemmer('russian').stem(w) for w in ru if not w in stopwords.words('russian')]\n",
    "    words_en = [SnowballStemmer('english').stem(w) for w in en if not w in stopwords.words('english')]\n",
    "    return words_ru + words_en"
   ]
  },
  {
   "cell_type": "markdown",
   "id": "73299da5-9e0b-475f-982d-1b50269f5315",
   "metadata": {},
   "source": [
    "Считываем урлы:"
   ]
  },
  {
   "cell_type": "code",
   "execution_count": 73,
   "id": "6f4745a1-a734-45b3-a95c-c4a6407241d7",
   "metadata": {},
   "outputs": [],
   "source": [
    "files = os.listdir(path='content')"
   ]
  },
  {
   "cell_type": "code",
   "execution_count": 85,
   "id": "3d13cf4b-89c6-43f4-a7bf-15e07d5d6580",
   "metadata": {},
   "outputs": [
    {
     "name": "stderr",
     "output_type": "stream",
     "text": [
      "100%|███████████████████████████████████████████████████████████████████████████| 28026/28026 [01:12<00:00, 385.47it/s]\n"
     ]
    },
    {
     "data": {
      "text/plain": [
       "28026"
      ]
     },
     "execution_count": 85,
     "metadata": {},
     "output_type": "execute_result"
    }
   ],
   "source": [
    "urls = []\n",
    "for file in tqdm(files):\n",
    "    with open('content/' + file, encoding='utf-8') as f:\n",
    "        url = process(f.readline())\n",
    "        urls.append(url)\n",
    "len(urls)"
   ]
  },
  {
   "cell_type": "code",
   "execution_count": null,
   "id": "2b17670c-7176-4d80-bd95-b2917daeea00",
   "metadata": {},
   "outputs": [],
   "source": [
    "urls[0]"
   ]
  },
  {
   "cell_type": "markdown",
   "id": "10ba5b22-0309-4b83-b359-85a4c7a3850f",
   "metadata": {},
   "source": [
    "Обработка заголовков из docs_titles (здесь я ничего не менял):"
   ]
  },
  {
   "cell_type": "code",
   "execution_count": 86,
   "id": "edf7355d-133f-4ede-bbed-7060d1037844",
   "metadata": {},
   "outputs": [
    {
     "name": "stdout",
     "output_type": "stream",
     "text": [
      "28026\n"
     ]
    }
   ],
   "source": [
    "doc_to_title = {}\n",
    "with open('docs_titles.tsv', encoding='utf-8') as f:\n",
    "    for num_line, line in enumerate(f):\n",
    "        if num_line == 0:\n",
    "            continue\n",
    "        data = line.strip().split('\\t', 1)\n",
    "        doc_id = int(data[0])\n",
    "        if len(data) == 1:\n",
    "            title = ''\n",
    "        else:\n",
    "            title = data[1]\n",
    "        doc_to_title[doc_id] = title\n",
    "print (len(doc_to_title))"
   ]
  },
  {
   "cell_type": "markdown",
   "id": "22a2ada3-95ca-4dc5-aed7-33dcbea09460",
   "metadata": {},
   "source": [
    "Обработка train_groups (здесь я обрабатываю заголовки и добавляю в traingroups_titledata в том числе и урл):"
   ]
  },
  {
   "cell_type": "code",
   "execution_count": 87,
   "id": "fc848ec1-7df8-426d-8482-e83ffc06fbb2",
   "metadata": {
    "tags": []
   },
   "outputs": [
    {
     "name": "stderr",
     "output_type": "stream",
     "text": [
      "100%|███████████████████████████████████████████████████████████████████████████| 11690/11690 [00:30<00:00, 381.50it/s]\n"
     ]
    }
   ],
   "source": [
    "train_data = pd.read_csv('train_groups.csv')\n",
    "traingroups_titledata = {}\n",
    "for i in tqdm(range(len(train_data))):\n",
    "    new_doc = train_data.iloc[i]\n",
    "    doc_group = new_doc['group_id']\n",
    "    doc_id = new_doc['doc_id']\n",
    "    target = new_doc['target']\n",
    "    title = process(doc_to_title[doc_id])\n",
    "    url = urls[doc_id - 1]\n",
    "    if doc_group not in traingroups_titledata:\n",
    "        traingroups_titledata[doc_group] = []\n",
    "    traingroups_titledata[doc_group].append((doc_id, title, url, target))"
   ]
  },
  {
   "cell_type": "markdown",
   "id": "f708f829-6239-4fa5-a0a7-baeea0450b27",
   "metadata": {},
   "source": [
    "Составляем X_train и y_train (отличие от baseline только в том, что ищем еще и пересечения среди урлов):"
   ]
  },
  {
   "cell_type": "code",
   "execution_count": 88,
   "id": "c71bad89-9882-450d-8a45-937a45e777d4",
   "metadata": {},
   "outputs": [
    {
     "name": "stderr",
     "output_type": "stream",
     "text": [
      "100%|████████████████████████████████████████████████████████████████████████████████| 129/129 [00:02<00:00, 60.31it/s]"
     ]
    },
    {
     "name": "stdout",
     "output_type": "stream",
     "text": [
      "(11690, 30) (11690,) (11690,)\n"
     ]
    },
    {
     "name": "stderr",
     "output_type": "stream",
     "text": [
      "\n"
     ]
    }
   ],
   "source": [
    "y_train = []\n",
    "X_train = []\n",
    "groups_train = []\n",
    "for new_group in tqdm(traingroups_titledata):\n",
    "    docs = traingroups_titledata[new_group]\n",
    "    for k, (doc_id, title, url, target_id) in enumerate(docs):\n",
    "        y_train.append(target_id)\n",
    "        groups_train.append(new_group)\n",
    "        all_dist_1 = []\n",
    "        all_dist_2 = []\n",
    "        words_1 = set(title)\n",
    "        words_2 = set(url)\n",
    "        for j in range(0, len(docs)):\n",
    "            if k == j:\n",
    "                continue\n",
    "            doc_id_j, title_j, url_j, target_j = docs[j]\n",
    "            words_1_j = set(title_j)\n",
    "            words_2_j = set(url_j)\n",
    "            all_dist_1.append(len(words_1.intersection(words_1_j)))\n",
    "            all_dist_2.append(len(words_2.intersection(words_2_j)))\n",
    "        X_train.append(sorted(all_dist_1, reverse=True)[0:15] + sorted(all_dist_2, reverse=True)[0:15])\n",
    "X_train = np.array(X_train)\n",
    "y_train = np.array(y_train)\n",
    "groups_train = np.array(groups_train)\n",
    "print (X_train.shape, y_train.shape, groups_train.shape)"
   ]
  },
  {
   "cell_type": "markdown",
   "id": "84f28cf3-fb49-444c-8889-f0a9171b180c",
   "metadata": {},
   "source": [
    "Делаем скейлинг:"
   ]
  },
  {
   "cell_type": "code",
   "execution_count": 89,
   "id": "792e21a5-e97a-46cc-9a18-0ab8d83f8a91",
   "metadata": {},
   "outputs": [
    {
     "data": {
      "text/plain": [
       "array([[ 1.11976314,  1.00918296,  1.22284645, ...,  1.3950957 ,\n",
       "         1.42423049,  1.44683807],\n",
       "       [ 2.09637605,  2.69709055,  2.42583181, ..., -0.28968413,\n",
       "        -0.25412177, -0.22297504],\n",
       "       [ 0.14315023,  0.4465471 ,  0.62135377, ..., -1.97446396,\n",
       "        -1.93247403, -1.89278815],\n",
       "       ...,\n",
       "       [-1.32176913, -1.2413605 , -1.18312427, ...,  1.3950957 ,\n",
       "         1.42423049,  1.44683807],\n",
       "       [ 1.11976314, -1.2413605 , -1.18312427, ...,  1.3950957 ,\n",
       "         1.42423049,  1.44683807],\n",
       "       [-0.83346267, -0.67872463, -0.58163159, ..., -0.28968413,\n",
       "        -0.25412177, -0.22297504]])"
      ]
     },
     "execution_count": 89,
     "metadata": {},
     "output_type": "execute_result"
    }
   ],
   "source": [
    "X_train_scaled = StandardScaler().fit_transform(X_train)\n",
    "X_train_scaled"
   ]
  },
  {
   "cell_type": "markdown",
   "id": "a600d79b-6ad6-4371-8334-a4f88d1676d5",
   "metadata": {},
   "source": [
    "Аналогичным образом обрабатываем test_groups, составляем X_test, делаем скейлинг:"
   ]
  },
  {
   "cell_type": "code",
   "execution_count": 98,
   "id": "0415e27b-8a65-4193-b014-d9979ee00fca",
   "metadata": {},
   "outputs": [
    {
     "name": "stderr",
     "output_type": "stream",
     "text": [
      "100%|████████████████████████████████████████████████████████████████████████████| 16627/16627 [03:54<00:00, 70.83it/s]\n"
     ]
    }
   ],
   "source": [
    "test_data = pd.read_csv('test_groups.csv')\n",
    "testgroups_titledata = {}\n",
    "for i in tqdm(range(len(test_data))):\n",
    "    new_doc = test_data.iloc[i]\n",
    "    doc_group = new_doc['group_id']\n",
    "    doc_id = new_doc['doc_id']\n",
    "    title = process(doc_to_title[doc_id])\n",
    "    url = urls[doc_id - 1]\n",
    "    if doc_group not in testgroups_titledata:\n",
    "        testgroups_titledata[doc_group] = []\n",
    "    testgroups_titledata[doc_group].append((doc_id, title, url))"
   ]
  },
  {
   "cell_type": "code",
   "execution_count": 91,
   "id": "4eae4fdc-4b2e-45d3-8236-c49dc057b27d",
   "metadata": {},
   "outputs": [
    {
     "name": "stderr",
     "output_type": "stream",
     "text": [
      "100%|████████████████████████████████████████████████████████████████████████████████| 180/180 [00:02<00:00, 61.02it/s]"
     ]
    },
    {
     "name": "stdout",
     "output_type": "stream",
     "text": [
      "(16627, 30) (16627,)\n"
     ]
    },
    {
     "name": "stderr",
     "output_type": "stream",
     "text": [
      "\n"
     ]
    }
   ],
   "source": [
    "X_test = []\n",
    "groups_test = []\n",
    "for new_group in tqdm(testgroups_titledata):\n",
    "    docs = testgroups_titledata[new_group]\n",
    "    for k, (doc_id, title, url) in enumerate(docs):\n",
    "        groups_test.append(new_group)\n",
    "        all_dist_1 = []\n",
    "        all_dist_2 = []\n",
    "        words_1 = set(title)\n",
    "        words_2 = set(url)\n",
    "        for j in range(0, len(docs)):\n",
    "            if k == j:\n",
    "                continue\n",
    "            doc_id_j, title_j, url_j = docs[j]\n",
    "            words_1_j = set(title_j)\n",
    "            words_2_j = set(url_j)\n",
    "            all_dist_1.append(len(words_1.intersection(words_1_j)))\n",
    "            all_dist_2.append(len(words_1.intersection(words_2_j)))\n",
    "        X_test.append(sorted(all_dist_1, reverse=True)[0:15] + sorted(all_dist_2, reverse=True)[0:15])\n",
    "X_test = np.array(X_test)\n",
    "groups_test = np.array(groups_test)\n",
    "print (X_test.shape, groups_test.shape)"
   ]
  },
  {
   "cell_type": "code",
   "execution_count": 92,
   "id": "02b9595d-6a62-438a-b9f0-608a0dd0c7ce",
   "metadata": {},
   "outputs": [
    {
     "data": {
      "text/plain": [
       "array([[ 1.15544873e-01,  4.06924852e-01,  5.62329961e-01, ...,\n",
       "        -3.36259040e-01, -3.35481123e-01, -3.34926109e-01],\n",
       "       [ 5.69184683e-01,  4.06924852e-01,  2.42456178e-03, ...,\n",
       "         2.95836622e+00,  2.96904769e+00,  2.97393688e+00],\n",
       "       [ 5.69184683e-01,  4.06924852e-01,  5.62329961e-01, ...,\n",
       "         2.95836622e+00,  2.96904769e+00,  2.97393688e+00],\n",
       "       ...,\n",
       "       [ 1.15544873e-01,  4.06924852e-01,  5.62329961e-01, ...,\n",
       "        -3.36259040e-01, -3.35481123e-01, -3.34926109e-01],\n",
       "       [ 1.02282449e+00,  1.46402032e+00,  1.68214076e+00, ...,\n",
       "         2.95836622e+00,  2.96904769e+00,  2.97393688e+00],\n",
       "       [ 3.74466335e+00,  4.63530671e+00,  5.04157315e+00, ...,\n",
       "         2.95836622e+00,  2.96904769e+00,  2.97393688e+00]])"
      ]
     },
     "execution_count": 92,
     "metadata": {},
     "output_type": "execute_result"
    }
   ],
   "source": [
    "X_test_scaled = StandardScaler().fit_transform(X_test)\n",
    "X_test_scaled"
   ]
  },
  {
   "cell_type": "markdown",
   "id": "a7cfcf79-63a3-4825-84f4-7482bcdc35d8",
   "metadata": {},
   "source": [
    "Подбираем параметры для LightGBM:"
   ]
  },
  {
   "cell_type": "code",
   "execution_count": 26,
   "id": "c655eeb5-e2d4-4e47-9e10-440adddc4156",
   "metadata": {},
   "outputs": [],
   "source": [
    "params = {'learning_rate': [0.5, 0.2, 0.1, 0.02, 0.05, 0.01, 0.001, 0.0001],\n",
    "              'n_estimators' : [50, 75, 100, 150, 200, 500, 1000],\n",
    "              'max_depth': [5, 6, 7, 8, 10]}\n",
    "\n",
    "model = GridSearchCV(estimator=LGBMClassifier(objective = 'binary', metric = 'f1'), cv=GroupKFold(n_splits=3), n_jobs=-1, param_grid=params)"
   ]
  },
  {
   "cell_type": "code",
   "execution_count": 27,
   "id": "80be876e-9eb3-47fd-a1cf-57bc06af5cae",
   "metadata": {},
   "outputs": [
    {
     "data": {
      "text/plain": [
       "GridSearchCV(cv=GroupKFold(n_splits=3),\n",
       "             estimator=LGBMClassifier(metric='f1', objective='binary'),\n",
       "             n_jobs=-1,\n",
       "             param_grid={'learning_rate': [0.5, 0.2, 0.1, 0.02, 0.05, 0.01,\n",
       "                                           0.001, 0.0001],\n",
       "                         'max_depth': [5, 6, 7, 8, 10],\n",
       "                         'n_estimators': [50, 75, 100, 150, 200, 500, 1000]})"
      ]
     },
     "execution_count": 27,
     "metadata": {},
     "output_type": "execute_result"
    }
   ],
   "source": [
    "model.fit(X_train_scaled, y_train, groups_train)"
   ]
  },
  {
   "cell_type": "markdown",
   "id": "b5400a21-e70c-4ef3-acc3-340f2fb0b3b9",
   "metadata": {},
   "source": [
    "Лучшие параметры:"
   ]
  },
  {
   "cell_type": "code",
   "execution_count": 28,
   "id": "e25bbb2d-e228-4d45-bc7a-8034e2b2fc10",
   "metadata": {},
   "outputs": [
    {
     "data": {
      "text/plain": [
       "{'learning_rate': 0.1, 'max_depth': 5, 'n_estimators': 50}"
      ]
     },
     "execution_count": 28,
     "metadata": {},
     "output_type": "execute_result"
    }
   ],
   "source": [
    "model.best_params_"
   ]
  },
  {
   "cell_type": "code",
   "execution_count": 29,
   "id": "3100ffda-9f30-473c-874a-b1f3f9bc4c5d",
   "metadata": {},
   "outputs": [
    {
     "data": {
      "text/plain": [
       "LGBMClassifier(max_depth=5, metric='f1', n_estimators=50, objective='binary')"
      ]
     },
     "execution_count": 29,
     "metadata": {},
     "output_type": "execute_result"
    }
   ],
   "source": [
    "model.best_estimator_"
   ]
  },
  {
   "cell_type": "code",
   "execution_count": 30,
   "id": "ada15693-96ab-487b-a1f3-0140eb3adfdb",
   "metadata": {},
   "outputs": [],
   "source": [
    "clf = model.best_estimator_"
   ]
  },
  {
   "cell_type": "markdown",
   "id": "0305d7de-67f1-4552-8d00-186485413aeb",
   "metadata": {},
   "source": [
    "Проводим кросс-валидацию:"
   ]
  },
  {
   "cell_type": "code",
   "execution_count": 31,
   "id": "3e256637-512c-406b-a4ea-ee2b6a03f0a5",
   "metadata": {},
   "outputs": [
    {
     "data": {
      "text/plain": [
       "0.6588201751432985"
      ]
     },
     "execution_count": 31,
     "metadata": {},
     "output_type": "execute_result"
    }
   ],
   "source": [
    "cross_val_score(clf, X_train_scaled, y_train, groups=groups_train, scoring=make_scorer(f1_score)).mean()"
   ]
  },
  {
   "cell_type": "code",
   "execution_count": 32,
   "id": "97cb6bcf-f55b-44e5-9bed-95a573da7c2c",
   "metadata": {},
   "outputs": [
    {
     "data": {
      "text/plain": [
       "LGBMClassifier(max_depth=5, metric='f1', n_estimators=50, objective='binary')"
      ]
     },
     "execution_count": 32,
     "metadata": {},
     "output_type": "execute_result"
    }
   ],
   "source": [
    "clf.fit(X_train_scaled, y_train)"
   ]
  },
  {
   "cell_type": "markdown",
   "id": "cbeb3d28-4b0e-4729-a089-766b151f0ab5",
   "metadata": {},
   "source": [
    "Подбираем параметры для XGBoost:"
   ]
  },
  {
   "cell_type": "code",
   "execution_count": 36,
   "id": "a0f55b9a-86a7-4526-bc58-d5668ff397f3",
   "metadata": {},
   "outputs": [],
   "source": [
    "params_1 = {'learning_rate': [0.5, 0.2, 0.1, 0.02, 0.05, 0.01, 0.001, 0.0001],\n",
    "              'n_estimators' : [50, 75, 100, 150, 200, 500, 1000],\n",
    "              'max_depth': [5, 6, 7, 8, 10]}\n",
    "\n",
    "model_1 = GridSearchCV(estimator=XGBClassifier(eval_metric='logloss'), cv=GroupKFold(n_splits=3), n_jobs=-1, param_grid=params_1)"
   ]
  },
  {
   "cell_type": "code",
   "execution_count": 37,
   "id": "952d3b03-9c16-48e6-87cb-a71a1ea2254a",
   "metadata": {},
   "outputs": [
    {
     "data": {
      "text/plain": [
       "GridSearchCV(cv=GroupKFold(n_splits=3),\n",
       "             estimator=XGBClassifier(base_score=None, booster=None,\n",
       "                                     colsample_bylevel=None,\n",
       "                                     colsample_bynode=None,\n",
       "                                     colsample_bytree=None,\n",
       "                                     eval_metric='logloss', gamma=None,\n",
       "                                     gpu_id=None, importance_type='gain',\n",
       "                                     interaction_constraints=None,\n",
       "                                     learning_rate=None, max_delta_step=None,\n",
       "                                     max_depth=None, min_child_weight=None,\n",
       "                                     missing=nan, monoto...one,\n",
       "                                     n_estimators=100, n_jobs=None,\n",
       "                                     num_parallel_tree=None, random_state=None,\n",
       "                                     reg_alpha=None, reg_lambda=None,\n",
       "                                     scale_pos_weight=None, subsample=None,\n",
       "                                     tree_method=None, validate_parameters=None,\n",
       "                                     verbosity=None),\n",
       "             n_jobs=-1,\n",
       "             param_grid={'learning_rate': [0.5, 0.2, 0.1, 0.02, 0.05, 0.01,\n",
       "                                           0.001, 0.0001],\n",
       "                         'max_depth': [5, 6, 7, 8, 10],\n",
       "                         'n_estimators': [50, 75, 100, 150, 200, 500, 1000]})"
      ]
     },
     "execution_count": 37,
     "metadata": {},
     "output_type": "execute_result"
    }
   ],
   "source": [
    "model_1.fit(X_train_scaled, y_train, groups_train)"
   ]
  },
  {
   "cell_type": "markdown",
   "id": "38e64403-2099-48f1-9b84-8e2e58b98383",
   "metadata": {},
   "source": [
    "Лучшие параметры:"
   ]
  },
  {
   "cell_type": "code",
   "execution_count": 38,
   "id": "feed3f15-ca45-495b-9bcf-be745f6c64f7",
   "metadata": {},
   "outputs": [
    {
     "data": {
      "text/plain": [
       "{'learning_rate': 0.01, 'max_depth': 5, 'n_estimators': 200}"
      ]
     },
     "execution_count": 38,
     "metadata": {},
     "output_type": "execute_result"
    }
   ],
   "source": [
    "model_1.best_params_"
   ]
  },
  {
   "cell_type": "code",
   "execution_count": 39,
   "id": "3c1ac745-704c-478d-975d-96a4f7a01b19",
   "metadata": {},
   "outputs": [
    {
     "data": {
      "text/plain": [
       "XGBClassifier(base_score=0.5, booster='gbtree', colsample_bylevel=1,\n",
       "              colsample_bynode=1, colsample_bytree=1, eval_metric='logloss',\n",
       "              gamma=0, gpu_id=-1, importance_type='gain',\n",
       "              interaction_constraints='', learning_rate=0.01, max_delta_step=0,\n",
       "              max_depth=5, min_child_weight=1, missing=nan,\n",
       "              monotone_constraints='()', n_estimators=200, n_jobs=8,\n",
       "              num_parallel_tree=1, random_state=0, reg_alpha=0, reg_lambda=1,\n",
       "              scale_pos_weight=1, subsample=1, tree_method='exact',\n",
       "              validate_parameters=1, verbosity=None)"
      ]
     },
     "execution_count": 39,
     "metadata": {},
     "output_type": "execute_result"
    }
   ],
   "source": [
    "model_1.best_estimator_"
   ]
  },
  {
   "cell_type": "code",
   "execution_count": 40,
   "id": "be4dd584-b304-4e44-bd32-d678c43ff25e",
   "metadata": {},
   "outputs": [
    {
     "data": {
      "text/plain": [
       "0.6625461666191896"
      ]
     },
     "execution_count": 40,
     "metadata": {},
     "output_type": "execute_result"
    }
   ],
   "source": [
    "clf_1 = model_1.best_estimator_\n",
    "cross_val_score(clf_1, X_train_scaled, y_train, groups=groups_train, scoring=make_scorer(f1_score)).mean()"
   ]
  },
  {
   "cell_type": "code",
   "execution_count": 41,
   "id": "9adc0510-1244-4ddd-be6b-1bc67ba26a4d",
   "metadata": {},
   "outputs": [
    {
     "data": {
      "text/plain": [
       "XGBClassifier(base_score=0.5, booster='gbtree', colsample_bylevel=1,\n",
       "              colsample_bynode=1, colsample_bytree=1, eval_metric='logloss',\n",
       "              gamma=0, gpu_id=-1, importance_type='gain',\n",
       "              interaction_constraints='', learning_rate=0.01, max_delta_step=0,\n",
       "              max_depth=5, min_child_weight=1, missing=nan,\n",
       "              monotone_constraints='()', n_estimators=200, n_jobs=8,\n",
       "              num_parallel_tree=1, random_state=0, reg_alpha=0, reg_lambda=1,\n",
       "              scale_pos_weight=1, subsample=1, tree_method='exact',\n",
       "              validate_parameters=1, verbosity=None)"
      ]
     },
     "execution_count": 41,
     "metadata": {},
     "output_type": "execute_result"
    }
   ],
   "source": [
    "clf_1.fit(X_train_scaled, y_train)"
   ]
  },
  {
   "cell_type": "markdown",
   "id": "c053f168-0bcf-4a73-941a-2c7ded05d84f",
   "metadata": {},
   "source": [
    "Подбираем параметры для CatBoost:"
   ]
  },
  {
   "cell_type": "code",
   "execution_count": 47,
   "id": "95684f19-d27a-4f4a-9684-d806da610ecc",
   "metadata": {},
   "outputs": [],
   "source": [
    "params_2 = {'learning_rate': [0.5, 0.2, 0.1, 0.02, 0.05, 0.01, 0.001, 0.0001],\n",
    "              'n_estimators' : [50, 75, 100, 150, 200, 500, 1000],\n",
    "              'depth': [5, 6, 7, 8, 10]}\n",
    "\n",
    "model_2 = GridSearchCV(estimator=CatBoostClassifier(), cv=GroupKFold(n_splits=3), n_jobs=-1, param_grid=params_2) "
   ]
  },
  {
   "cell_type": "markdown",
   "id": "03f0beaa-0fe4-4ec9-b9a3-dd036c7479be",
   "metadata": {},
   "source": [
    "Я закомментировал некоторые строки, потому что они давали слишком длинный вывод."
   ]
  },
  {
   "cell_type": "code",
   "execution_count": 56,
   "id": "ff754d65-f819-47ef-80eb-6744175a0dd9",
   "metadata": {},
   "outputs": [],
   "source": [
    "#model_2.fit(X_train_scaled, y_train, groups_train)"
   ]
  },
  {
   "cell_type": "markdown",
   "id": "761bbb86-5585-435a-a42e-1e70ed6dd49d",
   "metadata": {},
   "source": [
    "Лучшие параметры:"
   ]
  },
  {
   "cell_type": "code",
   "execution_count": 49,
   "id": "c3de3fc4-cac1-4b16-98dc-563ba0e90429",
   "metadata": {},
   "outputs": [
    {
     "data": {
      "text/plain": [
       "{'depth': 6, 'learning_rate': 0.1, 'n_estimators': 100}"
      ]
     },
     "execution_count": 49,
     "metadata": {},
     "output_type": "execute_result"
    }
   ],
   "source": [
    "model_2.best_params_"
   ]
  },
  {
   "cell_type": "code",
   "execution_count": 50,
   "id": "0985b63e-b0f7-4688-97f1-82368f85bf4a",
   "metadata": {},
   "outputs": [
    {
     "data": {
      "text/plain": [
       "<catboost.core.CatBoostClassifier at 0x2b0cc485e20>"
      ]
     },
     "execution_count": 50,
     "metadata": {},
     "output_type": "execute_result"
    }
   ],
   "source": [
    "model_2.best_estimator_"
   ]
  },
  {
   "cell_type": "code",
   "execution_count": 57,
   "id": "fcf90d69-06f6-408d-9e88-0334d8803700",
   "metadata": {},
   "outputs": [],
   "source": [
    "# clf_2 = model_2.best_estimator_\n",
    "# cross_val_score(clf_2, X_train_scaled, y_train, groups=groups_train, scoring=make_scorer(f1_score)).mean()"
   ]
  },
  {
   "cell_type": "code",
   "execution_count": 58,
   "id": "b223feba-5307-4db7-bff2-28851d8d2b3d",
   "metadata": {},
   "outputs": [],
   "source": [
    "#clf_2.fit(X_train_scaled, y_train)"
   ]
  },
  {
   "cell_type": "markdown",
   "id": "f5e638dd-d760-46ed-8518-a56ff4fc3758",
   "metadata": {},
   "source": [
    "Предсказываем результат соответствующего алгоритма (clf - LGBM, clf_1 - XGB, clf_2 - CatBoost):"
   ]
  },
  {
   "cell_type": "code",
   "execution_count": 94,
   "id": "21c3a38f-527f-424f-a21b-5a0a73d760a5",
   "metadata": {},
   "outputs": [],
   "source": [
    "pred = clf.predict(X_test_scaled)\n",
    "#pred = clf_1.predict(X_test_scaled)\n",
    "#pred = clf_2.predict(X_test_scaled)"
   ]
  },
  {
   "cell_type": "code",
   "execution_count": 95,
   "id": "c81aa1df-3b93-4666-af9d-979ab33828d1",
   "metadata": {},
   "outputs": [
    {
     "data": {
      "text/plain": [
       "array([1, 0, 1, ..., 1, 1, 0], dtype=int64)"
      ]
     },
     "execution_count": 95,
     "metadata": {},
     "output_type": "execute_result"
    }
   ],
   "source": [
    "pred"
   ]
  },
  {
   "cell_type": "markdown",
   "id": "444af756-a90f-4796-97d2-fd7a46f65b69",
   "metadata": {},
   "source": [
    "Записыааем в файл:"
   ]
  },
  {
   "cell_type": "code",
   "execution_count": 96,
   "id": "5fe0d7d0-a892-4b63-b944-6e72fe84d134",
   "metadata": {},
   "outputs": [],
   "source": [
    "test_data['target'] = pd.Series(np.asarray(pred), dtype=int)\n",
    "with open('res.csv', 'w') as f:\n",
    "    f.write(test_data.to_csv(columns=('pair_id', 'target'), index=False))"
   ]
  },
  {
   "cell_type": "markdown",
   "id": "04dd15c5-ca15-4d11-b982-1e5f0e957b85",
   "metadata": {},
   "source": [
    "На кросс-валидации XGBoost дает результат лучше, чем LightGBM, однако на kaggle LightGBM дает лучший скор."
   ]
  }
 ],
 "metadata": {
  "kernelspec": {
   "display_name": "Python 3 (ipykernel)",
   "language": "python",
   "name": "python3"
  },
  "language_info": {
   "codemirror_mode": {
    "name": "ipython",
    "version": 3
   },
   "file_extension": ".py",
   "mimetype": "text/x-python",
   "name": "python",
   "nbconvert_exporter": "python",
   "pygments_lexer": "ipython3",
   "version": "3.9.5"
  }
 },
 "nbformat": 4,
 "nbformat_minor": 5
}
